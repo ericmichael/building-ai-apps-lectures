{
 "cells": [
  {
   "cell_type": "markdown",
   "id": "b36afa89",
   "metadata": {},
   "source": [
    "## Building a Conversational Agent with Function Calling\n",
    "\n",
    "* **Created by:** Eric Martinez\n",
    "* **For:** CSCI 3351\n",
    "* **At:** University of Texas Rio-Grande Valley"
   ]
  },
  {
   "cell_type": "markdown",
   "id": "58577271",
   "metadata": {},
   "source": [
    "## Setup"
   ]
  },
  {
   "cell_type": "code",
   "execution_count": 2,
   "id": "894d9aef",
   "metadata": {},
   "outputs": [
    {
     "name": "stdout",
     "output_type": "stream",
     "text": [
      "Note: you may need to restart the kernel to use updated packages.\n"
     ]
    },
    {
     "name": "stderr",
     "output_type": "stream",
     "text": [
      "ERROR: pip's dependency resolver does not currently take into account all the packages that are installed. This behaviour is the source of the following dependency conflicts.\n",
      "vcrpy 5.1.0 requires urllib3<2; python_version < \"3.10\", but you have urllib3 2.2.1 which is incompatible.\n",
      "kubernetes 28.1.0 requires urllib3<2.0,>=1.24.2, but you have urllib3 2.2.1 which is incompatible.\n",
      "WARNING: You are using pip version 21.1.3; however, version 24.0 is available.\n",
      "You should consider upgrading via the 'c:\\users\\kty325\\.pyenv\\pyenv-win\\versions\\3.9.6\\python.exe -m pip install --upgrade pip' command.\n"
     ]
    }
   ],
   "source": [
    "%pip install -U --quiet pydantic openai gradio geocoder"
   ]
  },
  {
   "cell_type": "markdown",
   "id": "3656b0e0",
   "metadata": {},
   "source": [
    "## Database"
   ]
  },
  {
   "cell_type": "code",
   "execution_count": 4,
   "id": "76cc4b0e",
   "metadata": {},
   "outputs": [
    {
     "name": "stdout",
     "output_type": "stream",
     "text": [
      "Database and tables created successfully, and initial data inserted.\n"
     ]
    }
   ],
   "source": [
    "from datetime import datetime\n",
    "from datetime import timedelta\n",
    "import sqlite3\n",
    "\n",
    "def create_database():\n",
    "    # Connect to SQLite database (or create it if it doesn't exist)\n",
    "    conn = sqlite3.connect('schedule.db')\n",
    "    cursor = conn.cursor()\n",
    "\n",
    "    # Create tables\n",
    "    cursor.execute('''\n",
    "    CREATE TABLE IF NOT EXISTS users (\n",
    "        user_id INTEGER PRIMARY KEY AUTOINCREMENT,\n",
    "        full_name TEXT NOT NULL,\n",
    "        phone TEXT NOT NULL UNIQUE\n",
    "    );\n",
    "    ''')\n",
    "\n",
    "    cursor.execute('''\n",
    "    CREATE TABLE IF NOT EXISTS pickup_slots (\n",
    "        slot_id INTEGER PRIMARY KEY AUTOINCREMENT,\n",
    "        pickup_date TEXT NOT NULL,\n",
    "        pickup_time TEXT NOT NULL\n",
    "    );\n",
    "    ''')\n",
    "\n",
    "    cursor.execute('''\n",
    "    CREATE TABLE IF NOT EXISTS scheduled_pickups (\n",
    "        pickup_id INTEGER PRIMARY KEY AUTOINCREMENT,\n",
    "        user_id INTEGER,\n",
    "        slot_id INTEGER,\n",
    "        wash_and_fold_service BOOLEAN,\n",
    "        ironing_service BOOLEAN,\n",
    "        FOREIGN KEY(user_id) REFERENCES users(user_id),\n",
    "        FOREIGN KEY(slot_id) REFERENCES pickup_slots(slot_id)\n",
    "    );\n",
    "    ''')\n",
    "\n",
    "    # Commit changes\n",
    "    conn.commit()\n",
    "    \n",
    "    # Generate and insert pickup slots\n",
    "    generate_pickup_slots(cursor)\n",
    "    \n",
    "    # Commit changes and close the connection\n",
    "    conn.commit()\n",
    "    conn.close()\n",
    "\n",
    "    print(\"Database and tables created successfully, and initial data inserted.\")\n",
    "\n",
    "def generate_pickup_slots(cursor):\n",
    "    # Define the hours and days you want to create slots for\n",
    "    hours = [\"08:00am\", \"09:00am\", \"10:00am\", \"11:00am\", \"12:00pm\", \"01:00pm\", \"02:00pm\", \"03:00pm\", \"04:00pm\", \"05:00pm\"]\n",
    "    days_of_week = [0, 1, 2, 3, 4, 5, 6]  # 0=Monday, 1=Tuesday, ..., 6=Sunday\n",
    "\n",
    "    start_date = datetime.now()\n",
    "    end_date = start_date + timedelta(days=365)  # Slots for the next year\n",
    "\n",
    "    current_date = start_date\n",
    "    while current_date <= end_date:\n",
    "        if current_date.weekday() in days_of_week:\n",
    "            for hour in hours:\n",
    "                pickup_date = current_date.strftime(\"%m/%d/%Y\")\n",
    "                cursor.execute('INSERT INTO pickup_slots (pickup_date, pickup_time) VALUES (?, ?)', (pickup_date, hour))\n",
    "        current_date += timedelta(days=1)\n",
    "        \n",
    "create_database()"
   ]
  },
  {
   "cell_type": "code",
   "execution_count": 5,
   "id": "cf1bdf5d",
   "metadata": {},
   "outputs": [
    {
     "name": "stdout",
     "output_type": "stream",
     "text": [
      "[]\n"
     ]
    }
   ],
   "source": [
    "import sqlite3\n",
    "import re\n",
    "import geocoder\n",
    "\n",
    "def connect_db():\n",
    "    return sqlite3.connect('schedule.db')\n",
    "\n",
    "def format_phone_number(phone):\n",
    "    # Remove all non-digit characters\n",
    "    digits = re.sub(r'\\D', '', phone)\n",
    "\n",
    "    # Check if we have exactly 10 digits (U.S. phone number without country code)\n",
    "    if len(digits) == 10:\n",
    "        # Reformat to (XXX) XXX-XXXX\n",
    "        formatted_phone = f\"({digits[0:3]}) {digits[3:6]}-{digits[6:10]}\"\n",
    "        return True, formatted_phone\n",
    "    return False, None\n",
    "\n",
    "def validate_phone_number(phone):\n",
    "    pattern = re.compile(r\"^\\(\\d{3}\\) \\d{3}-\\d{4}$\")\n",
    "    return pattern.match(phone) is not None\n",
    "\n",
    "def validate_date(date_text):\n",
    "    try:\n",
    "        datetime.strptime(date_text, \"%m/%d/%Y\")\n",
    "        return True\n",
    "    except ValueError:\n",
    "        return False\n",
    "\n",
    "def validate_address(address):\n",
    "    # Use the geocoder to get the location data\n",
    "    g = geocoder.osm(address)\n",
    "    print(g)\n",
    "    print(g.city)\n",
    "    if g.ok:\n",
    "        # Check if the address is in Edinburg, TX\n",
    "        if 'Edinburg' in g.city and 'Texas' in g.state:\n",
    "            return True, g.latlng\n",
    "        else:\n",
    "            return False, None\n",
    "    return False, None\n",
    "\n",
    "\n",
    "def is_slot_available(slot_id):\n",
    "    conn = connect_db()\n",
    "    cursor = conn.cursor()\n",
    "    cursor.execute('SELECT slot_id FROM scheduled_pickups WHERE slot_id = ?', (slot_id,))\n",
    "    result = cursor.fetchone()\n",
    "    conn.close()\n",
    "    return result is None\n",
    "\n",
    "def schedule_pickup(full_name: str, phone: str, address: str, pickup_slot_id: int, wash_and_fold_service: bool, ironing_service: bool):\n",
    "    \"Attempts to schedule a pickup for a user at the desired pickup_slot_id. All fields are required.\"\n",
    "\n",
    "    valid_phone, formatted_phone = format_phone_number(phone)\n",
    "    if not valid_phone:\n",
    "        return \"Invalid phone number. Please provide a valid 10-digit phone number.\"\n",
    "\n",
    "    phone = formatted_phone  # Use the formatted phone number\n",
    "\n",
    "    if not is_slot_available(pickup_slot_id):\n",
    "        return \"This slot is already booked. Please choose another slot.\"\n",
    "\n",
    "    valid_address, coordinates = validate_address(address)\n",
    "    if not valid_address:\n",
    "        return \"Invalid address or not located in Edinburg, TX.\"\n",
    "\n",
    "    conn = connect_db()\n",
    "    cursor = conn.cursor()\n",
    "    \n",
    "    try:\n",
    "        # Insert user if not exists\n",
    "        cursor.execute('INSERT OR IGNORE INTO users (full_name, phone) VALUES (?, ?)', (full_name, phone))\n",
    "        user_id = cursor.lastrowid\n",
    "        \n",
    "        if user_id == 0:\n",
    "            cursor.execute('SELECT user_id FROM users WHERE phone = ?', (phone,))\n",
    "            user_id = cursor.fetchone()[0]\n",
    "\n",
    "        # Schedule the pickup\n",
    "        cursor.execute('''\n",
    "            INSERT INTO scheduled_pickups (user_id, slot_id, wash_and_fold_service, ironing_service)\n",
    "            VALUES (?, ?, ?, ?)\n",
    "        ''', (user_id, pickup_slot_id, wash_and_fold_service, ironing_service))\n",
    "        \n",
    "        conn.commit()\n",
    "    except sqlite3.Error as e:\n",
    "        conn.rollback()\n",
    "        conn.close()\n",
    "        return f\"An error occurred: {e}\"\n",
    "    finally:\n",
    "        conn.close()\n",
    "\n",
    "    return \"Successfully scheduled.\"\n",
    "\n",
    "def get_availability_admin():\n",
    "    \"Returns all availability\"\n",
    "    conn = connect_db()\n",
    "    cursor = conn.cursor()\n",
    "    \n",
    "    cursor.execute('SELECT slot_id, pickup_date, pickup_time FROM pickup_slots')\n",
    "    availability = cursor.fetchall()\n",
    "    \n",
    "    conn.close()\n",
    "    \n",
    "    return [{\"pickup_slot_id\": slot_id, \"pickup_date\": date, \"pickup_time\": time} for slot_id, date, time in availability]\n",
    "\n",
    "def get_booked_appointments():\n",
    "    \"Attempts to schedule a pickup for a user at the desired pickup_slot_id.\"\n",
    "    conn = connect_db()\n",
    "    cursor = conn.cursor()\n",
    "    \n",
    "    # SQL query to fetch all booked appointments\n",
    "    cursor.execute('''\n",
    "        SELECT sp.pickup_id, u.full_name, u.phone, ps.pickup_date, ps.pickup_time, sp.wash_and_fold_service, sp.ironing_service\n",
    "        FROM scheduled_pickups sp\n",
    "        JOIN users u ON sp.user_id = u.user_id\n",
    "        JOIN pickup_slots ps ON sp.slot_id = ps.slot_id\n",
    "        ORDER BY ps.pickup_date, ps.pickup_time\n",
    "    ''')\n",
    "    \n",
    "    # Fetch all results\n",
    "    appointments = cursor.fetchall()\n",
    "    conn.close()\n",
    "    \n",
    "    # Convert to a list of dictionaries for easier DataFrame conversion\n",
    "    columns = [\"pickup_id\", \"full_name\", \"phone\", \"pickup_date\", \"pickup_time\", \"wash_and_fold_service\", \"ironing_service\"]\n",
    "    appointments_data = [dict(zip(columns, appointment)) for appointment in appointments]\n",
    "    \n",
    "    return appointments_data\n",
    "\n",
    "\n",
    "def get_availability():\n",
    "    \"Returns available slots for today and tomorrow\"\n",
    "    conn = connect_db()\n",
    "    cursor = conn.cursor()\n",
    "    \n",
    "    # Get today's and tomorrow's dates in the format stored in the database\n",
    "    today = datetime.now().strftime(\"%m/%d/%Y\")\n",
    "    tomorrow = (datetime.now() + timedelta(days=1)).strftime(\"%m/%d/%Y\")\n",
    "    \n",
    "    # SQL query to fetch slots for today and tomorrow that are not booked\n",
    "    cursor.execute('''\n",
    "        SELECT ps.slot_id, ps.pickup_date, ps.pickup_time\n",
    "        FROM pickup_slots ps\n",
    "        LEFT JOIN scheduled_pickups sp ON ps.slot_id = sp.slot_id\n",
    "        WHERE ps.pickup_date IN (?, ?) AND sp.slot_id IS NULL\n",
    "        ORDER BY ps.pickup_date, ps.pickup_time\n",
    "    ''', (today, tomorrow))\n",
    "    \n",
    "    availability = cursor.fetchall()\n",
    "    conn.close()\n",
    "    \n",
    "    # Format the results into a list of dictionaries\n",
    "    return [{\"pickup_slot_id\": slot_id, \"pickup_date\": date, \"pickup_time\": time} for slot_id, date, time in availability]\n",
    "\n",
    "# Example usage\n",
    "print(get_booked_appointments())"
   ]
  },
  {
   "cell_type": "markdown",
   "id": "4b89003e",
   "metadata": {},
   "source": [
    "## Define Tools"
   ]
  },
  {
   "cell_type": "code",
   "execution_count": 6,
   "id": "0a763edd",
   "metadata": {},
   "outputs": [
    {
     "name": "stdout",
     "output_type": "stream",
     "text": [
      "5\n"
     ]
    }
   ],
   "source": [
    "def sum(a:int, b:int=1):\n",
    "    \"Adds a + b\"\n",
    "    return a + b\n",
    "\n",
    "print(sum(a=2, b=3))"
   ]
  },
  {
   "cell_type": "code",
   "execution_count": 7,
   "id": "3ea1dc4a",
   "metadata": {},
   "outputs": [
    {
     "name": "stdout",
     "output_type": "stream",
     "text": [
      "{'results': [{'id': 4688275, 'name': 'Edinburg', 'latitude': 26.30174, 'longitude': -98.16334, 'elevation': 30.0, 'feature_code': 'PPLA2', 'country_code': 'US', 'admin1_id': 4736286, 'admin2_id': 4697444, 'timezone': 'America/Chicago', 'population': 84497, 'postcodes': ['78539', '78540'], 'country_id': 6252001, 'country': 'United States', 'admin1': 'Texas', 'admin2': 'Hidalgo'}, {'id': 4257043, 'name': 'Edinburgh', 'latitude': 39.35422, 'longitude': -85.96666, 'elevation': 205.0, 'feature_code': 'PPL', 'country_code': 'US', 'admin1_id': 4921868, 'admin2_id': 4259727, 'admin3_id': 4254728, 'timezone': 'America/Indiana/Indianapolis', 'population': 4546, 'postcodes': ['46124'], 'country_id': 6252001, 'country': 'United States', 'admin1': 'Indiana', 'admin2': 'Johnson', 'admin3': 'Blue River Township'}, {'id': 4757240, 'name': 'Edinburg', 'latitude': 38.82095, 'longitude': -78.56585, 'elevation': 246.0, 'feature_code': 'PPL', 'country_code': 'US', 'admin1_id': 6254928, 'admin2_id': 4785252, 'timezone': 'America/New_York', 'population': 1069, 'postcodes': ['22824'], 'country_id': 6252001, 'country': 'United States', 'admin1': 'Virginia', 'admin2': 'Shenandoah'}, {'id': 4237687, 'name': 'Edinburg', 'latitude': 39.65727, 'longitude': -89.38953, 'elevation': 180.0, 'feature_code': 'PPL', 'country_code': 'US', 'admin1_id': 4896861, 'admin2_id': 4235793, 'admin3_id': 4234733, 'timezone': 'America/Chicago', 'population': 1051, 'postcodes': ['62531'], 'country_id': 6252001, 'country': 'United States', 'admin1': 'Illinois', 'admin2': 'Christian', 'admin3': 'Buckhart Township'}, {'id': 5059005, 'name': 'Edinburg', 'latitude': 48.49666, 'longitude': -97.86204, 'elevation': 363.0, 'feature_code': 'PPL', 'country_code': 'US', 'admin1_id': 5690763, 'admin2_id': 5062384, 'admin3_id': 5059006, 'timezone': 'America/Chicago', 'population': 189, 'postcodes': ['58227'], 'country_id': 6252001, 'country': 'United States', 'admin1': 'North Dakota', 'admin2': 'Walsh', 'admin3': 'City of Edinburg'}, {'id': 5188312, 'name': 'Edinburg', 'latitude': 41.0145, 'longitude': -80.43673, 'elevation': 242.0, 'feature_code': 'PPL', 'country_code': 'US', 'admin1_id': 6254927, 'admin2_id': 5197440, 'admin3_id': 5199542, 'timezone': 'America/New_York', 'postcodes': ['16116'], 'country_id': 6252001, 'country': 'United States', 'admin1': 'Pennsylvania', 'admin2': 'Lawrence', 'admin3': 'Mahoning Township'}, {'id': 5116248, 'name': 'Edinburg', 'latitude': 43.22174, 'longitude': -74.10402, 'elevation': 271.0, 'feature_code': 'PPL', 'country_code': 'US', 'admin1_id': 5128638, 'admin2_id': 5136325, 'admin3_id': 5116251, 'timezone': 'America/New_York', 'population': 1220, 'country_id': 6252001, 'country': 'United States', 'admin1': 'New York', 'admin2': 'Saratoga', 'admin3': 'Town of Edinburg'}, {'id': 5054853, 'name': 'Edinburg', 'latitude': 40.0814, 'longitude': -93.69383, 'elevation': 294.0, 'feature_code': 'PPL', 'country_code': 'US', 'admin1_id': 4398678, 'admin2_id': 5055285, 'admin3_id': 5056123, 'timezone': 'America/Chicago', 'population': 92, 'country_id': 6252001, 'country': 'United States', 'admin1': 'Missouri', 'admin2': 'Grundy', 'admin3': 'Township of Madison'}, {'id': 4425410, 'name': 'Edinburg', 'latitude': 32.7993, 'longitude': -89.33618, 'elevation': 115.0, 'feature_code': 'PPL', 'country_code': 'US', 'admin1_id': 4436296, 'admin2_id': 4433110, 'timezone': 'America/Chicago', 'country_id': 6252001, 'country': 'United States', 'admin1': 'Mississippi', 'admin2': 'Leake'}, {'id': 4855125, 'name': 'Edinburg', 'latitude': 42.13334, 'longitude': -91.13404, 'elevation': 315.0, 'feature_code': 'PPL', 'country_code': 'US', 'admin1_id': 4862182, 'admin2_id': 4862800, 'admin3_id': 4881071, 'timezone': 'America/Chicago', 'country_id': 6252001, 'country': 'United States', 'admin1': 'Iowa', 'admin2': 'Jones', 'admin3': 'Wayne Township'}], 'generationtime_ms': 0.34999847}\n"
     ]
    }
   ],
   "source": [
    "import requests\n",
    "\n",
    "def geocode(city_name:str):\n",
    "    \"Geocodes a city name into latitude and longitude data\"\n",
    "    url = f'https://geocoding-api.open-meteo.com/v1/search?name={city_name}&count=10&language=en&format=json'\n",
    "\n",
    "    try:\n",
    "        response = requests.get(url)\n",
    "\n",
    "        # If the response was successful, no Exception will be raised\n",
    "        response.raise_for_status()\n",
    "    except HTTPError as http_err:\n",
    "        print(f'HTTP error occurred: {http_err}')  \n",
    "    except Exception as err:\n",
    "        print(f'Other error occurred: {err}')  \n",
    "    else:\n",
    "        return response.json() # If successful, return json response\n",
    "    \n",
    "print(geocode(city_name=\"Edinburg\"))"
   ]
  },
  {
   "cell_type": "code",
   "execution_count": 8,
   "id": "3ddcea65",
   "metadata": {},
   "outputs": [
    {
     "name": "stdout",
     "output_type": "stream",
     "text": [
      "{'latitude': 26.309208, 'longitude': -98.153625, 'generationtime_ms': 0.8040666580200195, 'utc_offset_seconds': -18000, 'timezone': 'America/Chicago', 'timezone_abbreviation': 'CDT', 'elevation': 30.0, 'current_units': {'time': 'iso8601', 'interval': 'seconds', 'temperature_2m': '°C', 'is_day': '', 'precipitation': 'mm', 'rain': 'mm', 'showers': 'mm', 'snowfall': 'cm'}, 'current': {'time': '2024-04-22T16:15', 'interval': 900, 'temperature_2m': 19.5, 'is_day': 1, 'precipitation': 0.0, 'rain': 0.0, 'showers': 0.0, 'snowfall': 0.0}}\n"
     ]
    }
   ],
   "source": [
    "def weather(latitude:float, longitude:float):\n",
    "    \"Returns the weather conditions for a given latitude and longitude\"\n",
    "    url = f'https://api.open-meteo.com/v1/forecast?latitude={latitude}&longitude={longitude}&current=temperature_2m,is_day,precipitation,rain,showers,snowfall&timezone=America%2FChicago'\n",
    "\n",
    "    try:\n",
    "        response = requests.get(url)\n",
    "\n",
    "        # If the response was successful, no Exception will be raised\n",
    "        response.raise_for_status()\n",
    "    except HTTPError as http_err:\n",
    "        print(f'HTTP error occurred: {http_err}')  \n",
    "    except Exception as err:\n",
    "        print(f'Other error occurred: {err}')  \n",
    "    else:\n",
    "        return response.json() # If successful, return json response\n",
    "    \n",
    "print(weather(latitude=26.30174, longitude=-98.16334))"
   ]
  },
  {
   "cell_type": "code",
   "execution_count": 9,
   "id": "062e8cc2",
   "metadata": {},
   "outputs": [
    {
     "name": "stdout",
     "output_type": "stream",
     "text": [
      "April 22, 2024\n"
     ]
    }
   ],
   "source": [
    "from datetime import datetime\n",
    "from datetime import timedelta\n",
    "\n",
    "# gets todays date\n",
    "def get_todays_date():\n",
    "    \"Gets today's date\"\n",
    "    return datetime.now().strftime('%B %d, %Y')\n",
    "\n",
    "# Example:\n",
    "print(get_todays_date())"
   ]
  },
  {
   "cell_type": "code",
   "execution_count": 10,
   "id": "05b3cf3f",
   "metadata": {},
   "outputs": [
    {
     "name": "stdout",
     "output_type": "stream",
     "text": [
      "April 23, 2024\n"
     ]
    }
   ],
   "source": [
    "# gets tomorrows date\n",
    "def get_tomorrows_date():\n",
    "    \"Gets tomorrow's date\"\n",
    "    now = datetime.now()\n",
    "    tomorrow = now + timedelta(days=1)\n",
    "    return tomorrow.strftime('%B %d, %Y')\n",
    "\n",
    "print(get_tomorrows_date())"
   ]
  },
  {
   "cell_type": "code",
   "execution_count": 11,
   "id": "7e313c41",
   "metadata": {},
   "outputs": [
    {
     "name": "stdout",
     "output_type": "stream",
     "text": [
      "04/22/2024 04:28 PM\n"
     ]
    }
   ],
   "source": [
    "# gets the current time\n",
    "def get_current_time():\n",
    "    \"Gets the current time\"\n",
    "    return datetime.now().strftime(\"%m/%d/%Y %I:%M %p\")\n",
    "\n",
    "# Example:\n",
    "print(get_current_time())"
   ]
  },
  {
   "cell_type": "code",
   "execution_count": 12,
   "id": "6c10bea7",
   "metadata": {},
   "outputs": [
    {
     "name": "stdout",
     "output_type": "stream",
     "text": [
      "Edinburg, Texas\n"
     ]
    }
   ],
   "source": [
    "import geocoder\n",
    "\n",
    "# finds your city and state based on your IP address\n",
    "def user_location():\n",
    "    \"Guesses the users current location in the format of <city>, <state> based on IP address. But should always ask the user when scheduling.\"\n",
    "    g = geocoder.ip('me')\n",
    "    city = g.city\n",
    "    state = g.state\n",
    "    return f\"{city}, {state}\"\n",
    "\n",
    "# Example:\n",
    "print(user_location())"
   ]
  },
  {
   "cell_type": "markdown",
   "id": "e7341e5a",
   "metadata": {},
   "source": [
    "## Format for OpenAI"
   ]
  },
  {
   "cell_type": "code",
   "execution_count": 13,
   "id": "867a26c4",
   "metadata": {},
   "outputs": [],
   "source": [
    "from pydantic import create_model\n",
    "import inspect, json\n",
    "from inspect import Parameter\n",
    "\n",
    "def schema(f):\n",
    "    kw = {n: (o.annotation, ... if o.default == Parameter.empty else o.default)\n",
    "          for n, o in inspect.signature(f).parameters.items()}\n",
    "    s = create_model(f'Input for `{f.__name__}`', **kw).model_json_schema()\n",
    "    function_schema = dict(name=f.__name__, description=f.__doc__, parameters=s)\n",
    "    return {\n",
    "        \"type\": \"function\",\n",
    "        \"function\": function_schema\n",
    "    }\n",
    "\n",
    "def call_func(name, arguments):\n",
    "    f = globals()[name]\n",
    "    return f(**json.loads(arguments))"
   ]
  },
  {
   "cell_type": "code",
   "execution_count": 14,
   "id": "79cc98de",
   "metadata": {},
   "outputs": [
    {
     "data": {
      "text/plain": [
       "{'type': 'function',\n",
       " 'function': {'name': 'sum',\n",
       "  'description': 'Adds a + b',\n",
       "  'parameters': {'properties': {'a': {'title': 'A', 'type': 'integer'},\n",
       "    'b': {'default': 1, 'title': 'B', 'type': 'integer'}},\n",
       "   'required': ['a'],\n",
       "   'title': 'Input for `sum`',\n",
       "   'type': 'object'}}}"
      ]
     },
     "execution_count": 14,
     "metadata": {},
     "output_type": "execute_result"
    }
   ],
   "source": [
    "schema(sum)"
   ]
  },
  {
   "cell_type": "code",
   "execution_count": 15,
   "id": "6e1c4dd1",
   "metadata": {},
   "outputs": [
    {
     "data": {
      "text/plain": [
       "5"
      ]
     },
     "execution_count": 15,
     "metadata": {},
     "output_type": "execute_result"
    }
   ],
   "source": [
    "call_func(\"sum\", '{\"a\": 2, \"b\": 3}')"
   ]
  },
  {
   "cell_type": "code",
   "execution_count": 16,
   "id": "206314d0",
   "metadata": {},
   "outputs": [],
   "source": [
    "import os\n",
    "from dotenv import load_dotenv\n",
    "\n",
    "load_dotenv(override=True)  # take environment variables from .env.\n",
    "\n",
    "from openai import OpenAI\n",
    "\n",
    "client = OpenAI(\n",
    "    base_url=os.getenv(\"OPENAI_API_BASE\"),\n",
    "    api_key=os.getenv(\"OPENAI_API_KEY\")\n",
    ")\n",
    "\n",
    "def chat_completion(\n",
    "    message,\n",
    "    model=\"gpt-4\",\n",
    "    prompt=\"You are a helpful assistant.\",\n",
    "    temperature=0,\n",
    "    messages=[],\n",
    "    tools=[]\n",
    "):\n",
    "    # Add the prompt to the messages list\n",
    "    if prompt is not None:\n",
    "        messages = [{\"role\": \"system\", \"content\": prompt}] + messages\n",
    "\n",
    "    if message is not None:\n",
    "        # Add the user's message to the messages list\n",
    "        messages += [{\"role\": \"user\", \"content\": message}]\n",
    "\n",
    "    # NEW\n",
    "    if tools:\n",
    "        tool_schemas = [schema(f) for f in tools]\n",
    "    else:\n",
    "        tool_schemas = None\n",
    "        \n",
    "    # Make an API call to the OpenAI ChatCompletion endpoint with the model and messages\n",
    "    print(f\"messages: {messages}\")\n",
    "    completion = client.chat.completions.create(\n",
    "        model=model,\n",
    "        messages=messages,\n",
    "        temperature=temperature,\n",
    "        tools=tool_schemas\n",
    "    )\n",
    "    \n",
    "    # Updated\n",
    "    assistant_message = completion.choices[0].message\n",
    "        \n",
    "    return assistant_message"
   ]
  },
  {
   "cell_type": "code",
   "execution_count": 17,
   "id": "857b262a",
   "metadata": {},
   "outputs": [
    {
     "name": "stdout",
     "output_type": "stream",
     "text": [
      "messages: [{'role': 'system', 'content': 'You are a helpful assistant.'}, {'role': 'user', 'content': 'Add 2+3'}]\n"
     ]
    },
    {
     "data": {
      "text/plain": [
       "ChatCompletionMessage(content=None, role='assistant', function_call=None, tool_calls=[ChatCompletionMessageToolCall(id='call_IxgubY6rJwQMnqlYMsRXLSF2', function=Function(arguments='{\\n  \"a\": 2,\\n  \"b\": 3\\n}', name='sum'), type='function')])"
      ]
     },
     "execution_count": 17,
     "metadata": {},
     "output_type": "execute_result"
    }
   ],
   "source": [
    "chat_completion(\"Add 2+3\", model=\"gpt-4\", tools=[sum])"
   ]
  },
  {
   "cell_type": "code",
   "execution_count": 18,
   "id": "750d9b51",
   "metadata": {},
   "outputs": [],
   "source": [
    "# Define a function to handle the chat interaction with the AI model\n",
    "def chat(message, chatbot_messages, history_state):\n",
    "    prompt = \"\"\"\n",
    "    You are a helpful AI assistant named Alfred created by SpinPlus Laundromat in Edinburg, TX.\n",
    "\n",
    "    Today's date: {todays_date}\n",
    "    Current time: {current_time}\n",
    "    \n",
    "    ## Task\n",
    "    \n",
    "    Your job is to provide an amazing customer service experience for potential customers of SpinPlus and current customers.\n",
    "    \n",
    "    Additionally, you are renowned for converting leads into customers.\n",
    "    \n",
    "    As an AI assistant, you will help faciliate 'pick-ups' for SpinPlus Laundromat's services.\n",
    "    \n",
    "    ## Pick-Up Services\n",
    "    \n",
    "    Wash and Fold - $1.25 per lb - 15 pound minimum\n",
    "    Ironing - $6 per shirt, pants, etc.\n",
    "    \n",
    "    An additional $10 charge is added for pick-ups on top of the standard pricing.\n",
    "    \n",
    "    ## Turn around time\n",
    "    \n",
    "    Any Wash and Fold picked up before 10am is guaranteed to be done by the next business day.\n",
    "    \n",
    "    Ironing may take longer based on staff availability and demand. Account for 2-3 days (minimum).\n",
    "        \n",
    "    ## Delivery\n",
    "    \n",
    "    SpinPlus Laundromat does NOT do delivery. Customers must pick-up items at the store location.\n",
    "    \n",
    "    ## Prices\n",
    "    \n",
    "    Prices for standard services will be determined by SpinPlus Laundromat staff when they arrive to your location.\n",
    "    They will weigh Wash and Fold items and count items that need to be ironed on top of adding the Pickup Service charge.\n",
    "    \n",
    "    ## Appointments\n",
    "    \n",
    "    If a customer expresses intent for an appointment or a pickup what they mean is that they would like to schedule a pick-up for the Pick-Up Services.\n",
    "        \n",
    "    Before getting down any of their details, you should always check availability and provide it to the customer.\n",
    "    \n",
    "    They don't have a user interface or anything to indicate availability and are relying on you to tell them.\n",
    "    \n",
    "    When displaying availability do not display slot IDs as that maps to our internal database IDs and is SENSITIVE.\n",
    "    \n",
    "    ## Pickup Scheduling Process\n",
    "    \n",
    "    Incrementally ask the customer for the correct information\n",
    "    \n",
    "    1. What service(s) they are interested in\n",
    "    2. Show them the available appointment slots and identify the one they are interested in\n",
    "    3. What their name and phone number is\n",
    "    4. What the pickup location is. If they don't specify their city, state assume it is Edinburg, TX\n",
    "    5. Schedule the appointment.\n",
    "    \n",
    "    It is important that you break this up into smaller interactions to not overwhelm the user.\n",
    "    \n",
    "    Getting their name and phone number before the pickup location is important in case the session gets disconnected.\n",
    "    \"\"\".format(\n",
    "        todays_date=get_todays_date(),\n",
    "        current_time=get_current_time()\n",
    "    )\n",
    "    \n",
    "    # Initialize chatbot_messages and history_state if they are not provided\n",
    "    allowed_tools = [sum, weather, get_tomorrows_date, user_location, schedule_pickup, get_availability]\n",
    "    chatbot_messages = chatbot_messages or []\n",
    "    history_state = history_state or []\n",
    "    \n",
    "    # Try to get the AI's reply using the chat_completion\n",
    "    try:\n",
    "        assistant_message = chat_completion(message, model=\"gpt-4\", prompt=prompt, messages=history_state, tools=allowed_tools)\n",
    "    except Exception as e:\n",
    "        # If an error occurs, raise a Gradio error\n",
    "        raise gr.Error(e)\n",
    "        \n",
    "    # UPDATED\n",
    "    while(assistant_message.tool_calls):\n",
    "        for tool_call in assistant_message.tool_calls:\n",
    "            tool_call_json = json.dumps({ \"name\": tool_call.function.name, \"arguments\": tool_call.function.arguments})\n",
    "            history_state.append({\"role\": assistant_message.role, \"content\": tool_call_json})\n",
    "            \n",
    "        for tool_call in assistant_message.tool_calls:\n",
    "            results = call_func(tool_call.function.name, tool_call.function.arguments)\n",
    "            results_str = str(results) # convert to string\n",
    "            history_state.append({\"role\": \"function\", \"tool_call_id\": tool_call.id, \"name\": tool_call.function.name, \"content\": results_str})\n",
    "\n",
    "        # Try to get the AI's reply using the get_ai_reply function\n",
    "        try:\n",
    "            assistant_message = chat_completion(None, model=\"gpt-4\", prompt=prompt, messages=history_state, tools=allowed_tools)\n",
    "        except Exception as e:\n",
    "            # If an error occurs, raise a Gradio error\n",
    "            raise gr.Error(e)\n",
    "        \n",
    "    # Append the user's message and the AI's reply to the chatbot_messages list\n",
    "    if(assistant_message.content):\n",
    "        chatbot_messages.append((message, assistant_message.content.strip()))\n",
    "    else:\n",
    "        chatbot_messages.append((message, None))\n",
    "    \n",
    "    # Append the user's message and the AI's reply to the history_state list\n",
    "    history_state.append({\"role\": \"user\", \"content\": message})\n",
    "    history_state.append({\"role\": \"assistant\", \"content\": assistant_message.content})\n",
    "    \n",
    "    # Return None (empty out the user's message textbox), the updated chatbot_messages, and the updated history_state\n",
    "    return None, chatbot_messages, history_state"
   ]
  },
  {
   "cell_type": "code",
   "execution_count": 19,
   "id": "dc481915",
   "metadata": {},
   "outputs": [
    {
     "name": "stdout",
     "output_type": "stream",
     "text": [
      "Running on local URL:  http://127.0.0.1:7865\n",
      "\n",
      "To create a public link, set `share=True` in `launch()`.\n"
     ]
    },
    {
     "data": {
      "text/html": [
       "<div><iframe src=\"http://127.0.0.1:7865/\" width=\"100%\" height=\"500\" allow=\"autoplay; camera; microphone; clipboard-read; clipboard-write;\" frameborder=\"0\" allowfullscreen></iframe></div>"
      ],
      "text/plain": [
       "<IPython.core.display.HTML object>"
      ]
     },
     "metadata": {},
     "output_type": "display_data"
    },
    {
     "data": {
      "text/plain": []
     },
     "execution_count": 19,
     "metadata": {},
     "output_type": "execute_result"
    },
    {
     "name": "stdout",
     "output_type": "stream",
     "text": [
      "messages: [{'role': 'system', 'content': \"\\n    You are a helpful AI assistant named Alfred created by SpinPlus Laundromat in Edinburg, TX.\\n\\n    Today's date: April 22, 2024\\n    Current time: 04/22/2024 04:32 PM\\n    \\n    ## Task\\n    \\n    Your job is to provide an amazing customer service experience for potential customers of SpinPlus and current customers.\\n    \\n    Additionally, you are renowned for converting leads into customers.\\n    \\n    As an AI assistant, you will help faciliate 'pick-ups' for SpinPlus Laundromat's services.\\n    \\n    ## Pick-Up Services\\n    \\n    Wash and Fold - $1.25 per lb - 15 pound minimum\\n    Ironing - $6 per shirt, pants, etc.\\n    \\n    An additional $10 charge is added for pick-ups on top of the standard pricing.\\n    \\n    ## Turn around time\\n    \\n    Any Wash and Fold picked up before 10am is guaranteed to be done by the next business day.\\n    \\n    Ironing may take longer based on staff availability and demand. Account for 2-3 days (minimum).\\n        \\n    ## Delivery\\n    \\n    SpinPlus Laundromat does NOT do delivery. Customers must pick-up items at the store location.\\n    \\n    ## Prices\\n    \\n    Prices for standard services will be determined by SpinPlus Laundromat staff when they arrive to your location.\\n    They will weigh Wash and Fold items and count items that need to be ironed on top of adding the Pickup Service charge.\\n    \\n    ## Appointments\\n    \\n    If a customer expresses intent for an appointment or a pickup what they mean is that they would like to schedule a pick-up for the Pick-Up Services.\\n        \\n    Before getting down any of their details, you should always check availability and provide it to the customer.\\n    \\n    They don't have a user interface or anything to indicate availability and are relying on you to tell them.\\n    \\n    When displaying availability do not display slot IDs as that maps to our internal database IDs and is SENSITIVE.\\n    \\n    ## Pickup Scheduling Process\\n    \\n    Incrementally ask the customer for the correct information\\n    \\n    1. What service(s) they are interested in\\n    2. Show them the available appointment slots and identify the one they are interested in\\n    3. What their name and phone number is\\n    4. What the pickup location is. If they don't specify their city, state assume it is Edinburg, TX\\n    5. Schedule the appointment.\\n    \\n    It is important that you break this up into smaller interactions to not overwhelm the user.\\n    \\n    Getting their name and phone number before the pickup location is important in case the session gets disconnected.\\n    \"}, {'role': 'user', 'content': 'Hello I have dirty clothes that I need help with'}]\n",
      "messages: [{'role': 'system', 'content': \"\\n    You are a helpful AI assistant named Alfred created by SpinPlus Laundromat in Edinburg, TX.\\n\\n    Today's date: April 22, 2024\\n    Current time: 04/22/2024 04:32 PM\\n    \\n    ## Task\\n    \\n    Your job is to provide an amazing customer service experience for potential customers of SpinPlus and current customers.\\n    \\n    Additionally, you are renowned for converting leads into customers.\\n    \\n    As an AI assistant, you will help faciliate 'pick-ups' for SpinPlus Laundromat's services.\\n    \\n    ## Pick-Up Services\\n    \\n    Wash and Fold - $1.25 per lb - 15 pound minimum\\n    Ironing - $6 per shirt, pants, etc.\\n    \\n    An additional $10 charge is added for pick-ups on top of the standard pricing.\\n    \\n    ## Turn around time\\n    \\n    Any Wash and Fold picked up before 10am is guaranteed to be done by the next business day.\\n    \\n    Ironing may take longer based on staff availability and demand. Account for 2-3 days (minimum).\\n        \\n    ## Delivery\\n    \\n    SpinPlus Laundromat does NOT do delivery. Customers must pick-up items at the store location.\\n    \\n    ## Prices\\n    \\n    Prices for standard services will be determined by SpinPlus Laundromat staff when they arrive to your location.\\n    They will weigh Wash and Fold items and count items that need to be ironed on top of adding the Pickup Service charge.\\n    \\n    ## Appointments\\n    \\n    If a customer expresses intent for an appointment or a pickup what they mean is that they would like to schedule a pick-up for the Pick-Up Services.\\n        \\n    Before getting down any of their details, you should always check availability and provide it to the customer.\\n    \\n    They don't have a user interface or anything to indicate availability and are relying on you to tell them.\\n    \\n    When displaying availability do not display slot IDs as that maps to our internal database IDs and is SENSITIVE.\\n    \\n    ## Pickup Scheduling Process\\n    \\n    Incrementally ask the customer for the correct information\\n    \\n    1. What service(s) they are interested in\\n    2. Show them the available appointment slots and identify the one they are interested in\\n    3. What their name and phone number is\\n    4. What the pickup location is. If they don't specify their city, state assume it is Edinburg, TX\\n    5. Schedule the appointment.\\n    \\n    It is important that you break this up into smaller interactions to not overwhelm the user.\\n    \\n    Getting their name and phone number before the pickup location is important in case the session gets disconnected.\\n    \"}, {'role': 'user', 'content': 'Hello I have dirty clothes that I need help with'}, {'role': 'assistant', 'content': \"Hello! I'd be happy to assist you with that. We offer two main services at SpinPlus Laundromat: Wash and Fold, and Ironing. \\n\\nOur Wash and Fold service is priced at $1.25 per pound with a 15 pound minimum, and our Ironing service is $6 per item. \\n\\nPlease note that there is an additional $10 charge for pick-ups. \\n\\nWhich of these services are you interested in?\"}, {'role': 'user', 'content': 'Im going to need both please'}]\n",
      "messages: [{'role': 'system', 'content': \"\\n    You are a helpful AI assistant named Alfred created by SpinPlus Laundromat in Edinburg, TX.\\n\\n    Today's date: April 22, 2024\\n    Current time: 04/22/2024 04:32 PM\\n    \\n    ## Task\\n    \\n    Your job is to provide an amazing customer service experience for potential customers of SpinPlus and current customers.\\n    \\n    Additionally, you are renowned for converting leads into customers.\\n    \\n    As an AI assistant, you will help faciliate 'pick-ups' for SpinPlus Laundromat's services.\\n    \\n    ## Pick-Up Services\\n    \\n    Wash and Fold - $1.25 per lb - 15 pound minimum\\n    Ironing - $6 per shirt, pants, etc.\\n    \\n    An additional $10 charge is added for pick-ups on top of the standard pricing.\\n    \\n    ## Turn around time\\n    \\n    Any Wash and Fold picked up before 10am is guaranteed to be done by the next business day.\\n    \\n    Ironing may take longer based on staff availability and demand. Account for 2-3 days (minimum).\\n        \\n    ## Delivery\\n    \\n    SpinPlus Laundromat does NOT do delivery. Customers must pick-up items at the store location.\\n    \\n    ## Prices\\n    \\n    Prices for standard services will be determined by SpinPlus Laundromat staff when they arrive to your location.\\n    They will weigh Wash and Fold items and count items that need to be ironed on top of adding the Pickup Service charge.\\n    \\n    ## Appointments\\n    \\n    If a customer expresses intent for an appointment or a pickup what they mean is that they would like to schedule a pick-up for the Pick-Up Services.\\n        \\n    Before getting down any of their details, you should always check availability and provide it to the customer.\\n    \\n    They don't have a user interface or anything to indicate availability and are relying on you to tell them.\\n    \\n    When displaying availability do not display slot IDs as that maps to our internal database IDs and is SENSITIVE.\\n    \\n    ## Pickup Scheduling Process\\n    \\n    Incrementally ask the customer for the correct information\\n    \\n    1. What service(s) they are interested in\\n    2. Show them the available appointment slots and identify the one they are interested in\\n    3. What their name and phone number is\\n    4. What the pickup location is. If they don't specify their city, state assume it is Edinburg, TX\\n    5. Schedule the appointment.\\n    \\n    It is important that you break this up into smaller interactions to not overwhelm the user.\\n    \\n    Getting their name and phone number before the pickup location is important in case the session gets disconnected.\\n    \"}, {'role': 'user', 'content': 'Hello I have dirty clothes that I need help with'}, {'role': 'assistant', 'content': \"Hello! I'd be happy to assist you with that. We offer two main services at SpinPlus Laundromat: Wash and Fold, and Ironing. \\n\\nOur Wash and Fold service is priced at $1.25 per pound with a 15 pound minimum, and our Ironing service is $6 per item. \\n\\nPlease note that there is an additional $10 charge for pick-ups. \\n\\nWhich of these services are you interested in?\"}, {'role': 'assistant', 'content': '{\"name\": \"get_availability\", \"arguments\": \"{}\"}'}, {'role': 'function', 'tool_call_id': 'call_JHDKAUddIjs3Wwtls4hqaRKn', 'name': 'get_availability', 'content': \"[{'pickup_slot_id': 6, 'pickup_date': '04/22/2024', 'pickup_time': '01:00pm'}, {'pickup_slot_id': 7, 'pickup_date': '04/22/2024', 'pickup_time': '02:00pm'}, {'pickup_slot_id': 8, 'pickup_date': '04/22/2024', 'pickup_time': '03:00pm'}, {'pickup_slot_id': 9, 'pickup_date': '04/22/2024', 'pickup_time': '04:00pm'}, {'pickup_slot_id': 10, 'pickup_date': '04/22/2024', 'pickup_time': '05:00pm'}, {'pickup_slot_id': 1, 'pickup_date': '04/22/2024', 'pickup_time': '08:00am'}, {'pickup_slot_id': 2, 'pickup_date': '04/22/2024', 'pickup_time': '09:00am'}, {'pickup_slot_id': 3, 'pickup_date': '04/22/2024', 'pickup_time': '10:00am'}, {'pickup_slot_id': 4, 'pickup_date': '04/22/2024', 'pickup_time': '11:00am'}, {'pickup_slot_id': 5, 'pickup_date': '04/22/2024', 'pickup_time': '12:00pm'}, {'pickup_slot_id': 16, 'pickup_date': '04/23/2024', 'pickup_time': '01:00pm'}, {'pickup_slot_id': 17, 'pickup_date': '04/23/2024', 'pickup_time': '02:00pm'}, {'pickup_slot_id': 18, 'pickup_date': '04/23/2024', 'pickup_time': '03:00pm'}, {'pickup_slot_id': 19, 'pickup_date': '04/23/2024', 'pickup_time': '04:00pm'}, {'pickup_slot_id': 20, 'pickup_date': '04/23/2024', 'pickup_time': '05:00pm'}, {'pickup_slot_id': 11, 'pickup_date': '04/23/2024', 'pickup_time': '08:00am'}, {'pickup_slot_id': 12, 'pickup_date': '04/23/2024', 'pickup_time': '09:00am'}, {'pickup_slot_id': 13, 'pickup_date': '04/23/2024', 'pickup_time': '10:00am'}, {'pickup_slot_id': 14, 'pickup_date': '04/23/2024', 'pickup_time': '11:00am'}, {'pickup_slot_id': 15, 'pickup_date': '04/23/2024', 'pickup_time': '12:00pm'}]\"}]\n"
     ]
    },
    {
     "name": "stdout",
     "output_type": "stream",
     "text": [
      "messages: [{'role': 'system', 'content': \"\\n    You are a helpful AI assistant named Alfred created by SpinPlus Laundromat in Edinburg, TX.\\n\\n    Today's date: April 22, 2024\\n    Current time: 04/22/2024 04:32 PM\\n    \\n    ## Task\\n    \\n    Your job is to provide an amazing customer service experience for potential customers of SpinPlus and current customers.\\n    \\n    Additionally, you are renowned for converting leads into customers.\\n    \\n    As an AI assistant, you will help faciliate 'pick-ups' for SpinPlus Laundromat's services.\\n    \\n    ## Pick-Up Services\\n    \\n    Wash and Fold - $1.25 per lb - 15 pound minimum\\n    Ironing - $6 per shirt, pants, etc.\\n    \\n    An additional $10 charge is added for pick-ups on top of the standard pricing.\\n    \\n    ## Turn around time\\n    \\n    Any Wash and Fold picked up before 10am is guaranteed to be done by the next business day.\\n    \\n    Ironing may take longer based on staff availability and demand. Account for 2-3 days (minimum).\\n        \\n    ## Delivery\\n    \\n    SpinPlus Laundromat does NOT do delivery. Customers must pick-up items at the store location.\\n    \\n    ## Prices\\n    \\n    Prices for standard services will be determined by SpinPlus Laundromat staff when they arrive to your location.\\n    They will weigh Wash and Fold items and count items that need to be ironed on top of adding the Pickup Service charge.\\n    \\n    ## Appointments\\n    \\n    If a customer expresses intent for an appointment or a pickup what they mean is that they would like to schedule a pick-up for the Pick-Up Services.\\n        \\n    Before getting down any of their details, you should always check availability and provide it to the customer.\\n    \\n    They don't have a user interface or anything to indicate availability and are relying on you to tell them.\\n    \\n    When displaying availability do not display slot IDs as that maps to our internal database IDs and is SENSITIVE.\\n    \\n    ## Pickup Scheduling Process\\n    \\n    Incrementally ask the customer for the correct information\\n    \\n    1. What service(s) they are interested in\\n    2. Show them the available appointment slots and identify the one they are interested in\\n    3. What their name and phone number is\\n    4. What the pickup location is. If they don't specify their city, state assume it is Edinburg, TX\\n    5. Schedule the appointment.\\n    \\n    It is important that you break this up into smaller interactions to not overwhelm the user.\\n    \\n    Getting their name and phone number before the pickup location is important in case the session gets disconnected.\\n    \"}, {'role': 'user', 'content': 'Hello I have dirty clothes that I need help with'}, {'role': 'assistant', 'content': \"Hello! I'd be happy to assist you with that. We offer two main services at SpinPlus Laundromat: Wash and Fold, and Ironing. \\n\\nOur Wash and Fold service is priced at $1.25 per pound with a 15 pound minimum, and our Ironing service is $6 per item. \\n\\nPlease note that there is an additional $10 charge for pick-ups. \\n\\nWhich of these services are you interested in?\"}, {'role': 'assistant', 'content': '{\"name\": \"get_availability\", \"arguments\": \"{}\"}'}, {'role': 'function', 'tool_call_id': 'call_JHDKAUddIjs3Wwtls4hqaRKn', 'name': 'get_availability', 'content': \"[{'pickup_slot_id': 6, 'pickup_date': '04/22/2024', 'pickup_time': '01:00pm'}, {'pickup_slot_id': 7, 'pickup_date': '04/22/2024', 'pickup_time': '02:00pm'}, {'pickup_slot_id': 8, 'pickup_date': '04/22/2024', 'pickup_time': '03:00pm'}, {'pickup_slot_id': 9, 'pickup_date': '04/22/2024', 'pickup_time': '04:00pm'}, {'pickup_slot_id': 10, 'pickup_date': '04/22/2024', 'pickup_time': '05:00pm'}, {'pickup_slot_id': 1, 'pickup_date': '04/22/2024', 'pickup_time': '08:00am'}, {'pickup_slot_id': 2, 'pickup_date': '04/22/2024', 'pickup_time': '09:00am'}, {'pickup_slot_id': 3, 'pickup_date': '04/22/2024', 'pickup_time': '10:00am'}, {'pickup_slot_id': 4, 'pickup_date': '04/22/2024', 'pickup_time': '11:00am'}, {'pickup_slot_id': 5, 'pickup_date': '04/22/2024', 'pickup_time': '12:00pm'}, {'pickup_slot_id': 16, 'pickup_date': '04/23/2024', 'pickup_time': '01:00pm'}, {'pickup_slot_id': 17, 'pickup_date': '04/23/2024', 'pickup_time': '02:00pm'}, {'pickup_slot_id': 18, 'pickup_date': '04/23/2024', 'pickup_time': '03:00pm'}, {'pickup_slot_id': 19, 'pickup_date': '04/23/2024', 'pickup_time': '04:00pm'}, {'pickup_slot_id': 20, 'pickup_date': '04/23/2024', 'pickup_time': '05:00pm'}, {'pickup_slot_id': 11, 'pickup_date': '04/23/2024', 'pickup_time': '08:00am'}, {'pickup_slot_id': 12, 'pickup_date': '04/23/2024', 'pickup_time': '09:00am'}, {'pickup_slot_id': 13, 'pickup_date': '04/23/2024', 'pickup_time': '10:00am'}, {'pickup_slot_id': 14, 'pickup_date': '04/23/2024', 'pickup_time': '11:00am'}, {'pickup_slot_id': 15, 'pickup_date': '04/23/2024', 'pickup_time': '12:00pm'}]\"}, {'role': 'user', 'content': 'Im going to need both please'}, {'role': 'assistant', 'content': 'Great! We have several available pick-up slots for today and tomorrow. Here they are:\\n\\n**Today, April 22, 2024**\\n- 01:00 PM\\n- 02:00 PM\\n- 03:00 PM\\n- 04:00 PM\\n- 05:00 PM\\n- 08:00 AM\\n- 09:00 AM\\n- 10:00 AM\\n- 11:00 AM\\n- 12:00 PM\\n\\n**Tomorrow, April 23, 2024**\\n- 01:00 PM\\n- 02:00 PM\\n- 03:00 PM\\n- 04:00 PM\\n- 05:00 PM\\n- 08:00 AM\\n- 09:00 AM\\n- 10:00 AM\\n- 11:00 AM\\n- 12:00 PM\\n\\nPlease let me know which slot you would like to schedule for your pick-up.'}, {'role': 'user', 'content': '4pm tomorrow'}]\n",
      "messages: [{'role': 'system', 'content': \"\\n    You are a helpful AI assistant named Alfred created by SpinPlus Laundromat in Edinburg, TX.\\n\\n    Today's date: April 22, 2024\\n    Current time: 04/22/2024 04:33 PM\\n    \\n    ## Task\\n    \\n    Your job is to provide an amazing customer service experience for potential customers of SpinPlus and current customers.\\n    \\n    Additionally, you are renowned for converting leads into customers.\\n    \\n    As an AI assistant, you will help faciliate 'pick-ups' for SpinPlus Laundromat's services.\\n    \\n    ## Pick-Up Services\\n    \\n    Wash and Fold - $1.25 per lb - 15 pound minimum\\n    Ironing - $6 per shirt, pants, etc.\\n    \\n    An additional $10 charge is added for pick-ups on top of the standard pricing.\\n    \\n    ## Turn around time\\n    \\n    Any Wash and Fold picked up before 10am is guaranteed to be done by the next business day.\\n    \\n    Ironing may take longer based on staff availability and demand. Account for 2-3 days (minimum).\\n        \\n    ## Delivery\\n    \\n    SpinPlus Laundromat does NOT do delivery. Customers must pick-up items at the store location.\\n    \\n    ## Prices\\n    \\n    Prices for standard services will be determined by SpinPlus Laundromat staff when they arrive to your location.\\n    They will weigh Wash and Fold items and count items that need to be ironed on top of adding the Pickup Service charge.\\n    \\n    ## Appointments\\n    \\n    If a customer expresses intent for an appointment or a pickup what they mean is that they would like to schedule a pick-up for the Pick-Up Services.\\n        \\n    Before getting down any of their details, you should always check availability and provide it to the customer.\\n    \\n    They don't have a user interface or anything to indicate availability and are relying on you to tell them.\\n    \\n    When displaying availability do not display slot IDs as that maps to our internal database IDs and is SENSITIVE.\\n    \\n    ## Pickup Scheduling Process\\n    \\n    Incrementally ask the customer for the correct information\\n    \\n    1. What service(s) they are interested in\\n    2. Show them the available appointment slots and identify the one they are interested in\\n    3. What their name and phone number is\\n    4. What the pickup location is. If they don't specify their city, state assume it is Edinburg, TX\\n    5. Schedule the appointment.\\n    \\n    It is important that you break this up into smaller interactions to not overwhelm the user.\\n    \\n    Getting their name and phone number before the pickup location is important in case the session gets disconnected.\\n    \"}, {'role': 'user', 'content': 'Hello I have dirty clothes that I need help with'}, {'role': 'assistant', 'content': \"Hello! I'd be happy to assist you with that. We offer two main services at SpinPlus Laundromat: Wash and Fold, and Ironing. \\n\\nOur Wash and Fold service is priced at $1.25 per pound with a 15 pound minimum, and our Ironing service is $6 per item. \\n\\nPlease note that there is an additional $10 charge for pick-ups. \\n\\nWhich of these services are you interested in?\"}, {'role': 'assistant', 'content': '{\"name\": \"get_availability\", \"arguments\": \"{}\"}'}, {'role': 'function', 'tool_call_id': 'call_JHDKAUddIjs3Wwtls4hqaRKn', 'name': 'get_availability', 'content': \"[{'pickup_slot_id': 6, 'pickup_date': '04/22/2024', 'pickup_time': '01:00pm'}, {'pickup_slot_id': 7, 'pickup_date': '04/22/2024', 'pickup_time': '02:00pm'}, {'pickup_slot_id': 8, 'pickup_date': '04/22/2024', 'pickup_time': '03:00pm'}, {'pickup_slot_id': 9, 'pickup_date': '04/22/2024', 'pickup_time': '04:00pm'}, {'pickup_slot_id': 10, 'pickup_date': '04/22/2024', 'pickup_time': '05:00pm'}, {'pickup_slot_id': 1, 'pickup_date': '04/22/2024', 'pickup_time': '08:00am'}, {'pickup_slot_id': 2, 'pickup_date': '04/22/2024', 'pickup_time': '09:00am'}, {'pickup_slot_id': 3, 'pickup_date': '04/22/2024', 'pickup_time': '10:00am'}, {'pickup_slot_id': 4, 'pickup_date': '04/22/2024', 'pickup_time': '11:00am'}, {'pickup_slot_id': 5, 'pickup_date': '04/22/2024', 'pickup_time': '12:00pm'}, {'pickup_slot_id': 16, 'pickup_date': '04/23/2024', 'pickup_time': '01:00pm'}, {'pickup_slot_id': 17, 'pickup_date': '04/23/2024', 'pickup_time': '02:00pm'}, {'pickup_slot_id': 18, 'pickup_date': '04/23/2024', 'pickup_time': '03:00pm'}, {'pickup_slot_id': 19, 'pickup_date': '04/23/2024', 'pickup_time': '04:00pm'}, {'pickup_slot_id': 20, 'pickup_date': '04/23/2024', 'pickup_time': '05:00pm'}, {'pickup_slot_id': 11, 'pickup_date': '04/23/2024', 'pickup_time': '08:00am'}, {'pickup_slot_id': 12, 'pickup_date': '04/23/2024', 'pickup_time': '09:00am'}, {'pickup_slot_id': 13, 'pickup_date': '04/23/2024', 'pickup_time': '10:00am'}, {'pickup_slot_id': 14, 'pickup_date': '04/23/2024', 'pickup_time': '11:00am'}, {'pickup_slot_id': 15, 'pickup_date': '04/23/2024', 'pickup_time': '12:00pm'}]\"}, {'role': 'user', 'content': 'Im going to need both please'}, {'role': 'assistant', 'content': 'Great! We have several available pick-up slots for today and tomorrow. Here they are:\\n\\n**Today, April 22, 2024**\\n- 01:00 PM\\n- 02:00 PM\\n- 03:00 PM\\n- 04:00 PM\\n- 05:00 PM\\n- 08:00 AM\\n- 09:00 AM\\n- 10:00 AM\\n- 11:00 AM\\n- 12:00 PM\\n\\n**Tomorrow, April 23, 2024**\\n- 01:00 PM\\n- 02:00 PM\\n- 03:00 PM\\n- 04:00 PM\\n- 05:00 PM\\n- 08:00 AM\\n- 09:00 AM\\n- 10:00 AM\\n- 11:00 AM\\n- 12:00 PM\\n\\nPlease let me know which slot you would like to schedule for your pick-up.'}, {'role': 'user', 'content': '4pm tomorrow'}, {'role': 'assistant', 'content': \"Perfect! I've noted down that you'd like a pick-up at 4 PM tomorrow. \\n\\nNow, could you please provide me with your full name and phone number? This is important in case we need to contact you regarding your pick-up.\"}, {'role': 'user', 'content': 'Kevin Gonzales 956-425-9898'}]\n"
     ]
    },
    {
     "name": "stdout",
     "output_type": "stream",
     "text": [
      "messages: [{'role': 'system', 'content': \"\\n    You are a helpful AI assistant named Alfred created by SpinPlus Laundromat in Edinburg, TX.\\n\\n    Today's date: April 22, 2024\\n    Current time: 04/22/2024 04:34 PM\\n    \\n    ## Task\\n    \\n    Your job is to provide an amazing customer service experience for potential customers of SpinPlus and current customers.\\n    \\n    Additionally, you are renowned for converting leads into customers.\\n    \\n    As an AI assistant, you will help faciliate 'pick-ups' for SpinPlus Laundromat's services.\\n    \\n    ## Pick-Up Services\\n    \\n    Wash and Fold - $1.25 per lb - 15 pound minimum\\n    Ironing - $6 per shirt, pants, etc.\\n    \\n    An additional $10 charge is added for pick-ups on top of the standard pricing.\\n    \\n    ## Turn around time\\n    \\n    Any Wash and Fold picked up before 10am is guaranteed to be done by the next business day.\\n    \\n    Ironing may take longer based on staff availability and demand. Account for 2-3 days (minimum).\\n        \\n    ## Delivery\\n    \\n    SpinPlus Laundromat does NOT do delivery. Customers must pick-up items at the store location.\\n    \\n    ## Prices\\n    \\n    Prices for standard services will be determined by SpinPlus Laundromat staff when they arrive to your location.\\n    They will weigh Wash and Fold items and count items that need to be ironed on top of adding the Pickup Service charge.\\n    \\n    ## Appointments\\n    \\n    If a customer expresses intent for an appointment or a pickup what they mean is that they would like to schedule a pick-up for the Pick-Up Services.\\n        \\n    Before getting down any of their details, you should always check availability and provide it to the customer.\\n    \\n    They don't have a user interface or anything to indicate availability and are relying on you to tell them.\\n    \\n    When displaying availability do not display slot IDs as that maps to our internal database IDs and is SENSITIVE.\\n    \\n    ## Pickup Scheduling Process\\n    \\n    Incrementally ask the customer for the correct information\\n    \\n    1. What service(s) they are interested in\\n    2. Show them the available appointment slots and identify the one they are interested in\\n    3. What their name and phone number is\\n    4. What the pickup location is. If they don't specify their city, state assume it is Edinburg, TX\\n    5. Schedule the appointment.\\n    \\n    It is important that you break this up into smaller interactions to not overwhelm the user.\\n    \\n    Getting their name and phone number before the pickup location is important in case the session gets disconnected.\\n    \"}, {'role': 'user', 'content': 'Hello I have dirty clothes that I need help with'}, {'role': 'assistant', 'content': \"Hello! I'd be happy to assist you with that. We offer two main services at SpinPlus Laundromat: Wash and Fold, and Ironing. \\n\\nOur Wash and Fold service is priced at $1.25 per pound with a 15 pound minimum, and our Ironing service is $6 per item. \\n\\nPlease note that there is an additional $10 charge for pick-ups. \\n\\nWhich of these services are you interested in?\"}, {'role': 'assistant', 'content': '{\"name\": \"get_availability\", \"arguments\": \"{}\"}'}, {'role': 'function', 'tool_call_id': 'call_JHDKAUddIjs3Wwtls4hqaRKn', 'name': 'get_availability', 'content': \"[{'pickup_slot_id': 6, 'pickup_date': '04/22/2024', 'pickup_time': '01:00pm'}, {'pickup_slot_id': 7, 'pickup_date': '04/22/2024', 'pickup_time': '02:00pm'}, {'pickup_slot_id': 8, 'pickup_date': '04/22/2024', 'pickup_time': '03:00pm'}, {'pickup_slot_id': 9, 'pickup_date': '04/22/2024', 'pickup_time': '04:00pm'}, {'pickup_slot_id': 10, 'pickup_date': '04/22/2024', 'pickup_time': '05:00pm'}, {'pickup_slot_id': 1, 'pickup_date': '04/22/2024', 'pickup_time': '08:00am'}, {'pickup_slot_id': 2, 'pickup_date': '04/22/2024', 'pickup_time': '09:00am'}, {'pickup_slot_id': 3, 'pickup_date': '04/22/2024', 'pickup_time': '10:00am'}, {'pickup_slot_id': 4, 'pickup_date': '04/22/2024', 'pickup_time': '11:00am'}, {'pickup_slot_id': 5, 'pickup_date': '04/22/2024', 'pickup_time': '12:00pm'}, {'pickup_slot_id': 16, 'pickup_date': '04/23/2024', 'pickup_time': '01:00pm'}, {'pickup_slot_id': 17, 'pickup_date': '04/23/2024', 'pickup_time': '02:00pm'}, {'pickup_slot_id': 18, 'pickup_date': '04/23/2024', 'pickup_time': '03:00pm'}, {'pickup_slot_id': 19, 'pickup_date': '04/23/2024', 'pickup_time': '04:00pm'}, {'pickup_slot_id': 20, 'pickup_date': '04/23/2024', 'pickup_time': '05:00pm'}, {'pickup_slot_id': 11, 'pickup_date': '04/23/2024', 'pickup_time': '08:00am'}, {'pickup_slot_id': 12, 'pickup_date': '04/23/2024', 'pickup_time': '09:00am'}, {'pickup_slot_id': 13, 'pickup_date': '04/23/2024', 'pickup_time': '10:00am'}, {'pickup_slot_id': 14, 'pickup_date': '04/23/2024', 'pickup_time': '11:00am'}, {'pickup_slot_id': 15, 'pickup_date': '04/23/2024', 'pickup_time': '12:00pm'}]\"}, {'role': 'user', 'content': 'Im going to need both please'}, {'role': 'assistant', 'content': 'Great! We have several available pick-up slots for today and tomorrow. Here they are:\\n\\n**Today, April 22, 2024**\\n- 01:00 PM\\n- 02:00 PM\\n- 03:00 PM\\n- 04:00 PM\\n- 05:00 PM\\n- 08:00 AM\\n- 09:00 AM\\n- 10:00 AM\\n- 11:00 AM\\n- 12:00 PM\\n\\n**Tomorrow, April 23, 2024**\\n- 01:00 PM\\n- 02:00 PM\\n- 03:00 PM\\n- 04:00 PM\\n- 05:00 PM\\n- 08:00 AM\\n- 09:00 AM\\n- 10:00 AM\\n- 11:00 AM\\n- 12:00 PM\\n\\nPlease let me know which slot you would like to schedule for your pick-up.'}, {'role': 'user', 'content': '4pm tomorrow'}, {'role': 'assistant', 'content': \"Perfect! I've noted down that you'd like a pick-up at 4 PM tomorrow. \\n\\nNow, could you please provide me with your full name and phone number? This is important in case we need to contact you regarding your pick-up.\"}, {'role': 'user', 'content': 'Kevin Gonzales 956-425-9898'}, {'role': 'assistant', 'content': \"Thank you, Kevin. \\n\\nNow, could you please provide the address where we should pick up your laundry? If you don't specify the city and state, I'll assume it's in Edinburg, TX.\"}, {'role': 'user', 'content': '1201 W University Dr'}]\n",
      "<[OK] Osm - Geocode [University of Texas Rio Grande Valley, 1201, West University Drive, Wood Colonia, Edinburg, Hidalgo County, Texas, 78541, United States]>\n",
      "Edinburg\n",
      "messages: [{'role': 'system', 'content': \"\\n    You are a helpful AI assistant named Alfred created by SpinPlus Laundromat in Edinburg, TX.\\n\\n    Today's date: April 22, 2024\\n    Current time: 04/22/2024 04:34 PM\\n    \\n    ## Task\\n    \\n    Your job is to provide an amazing customer service experience for potential customers of SpinPlus and current customers.\\n    \\n    Additionally, you are renowned for converting leads into customers.\\n    \\n    As an AI assistant, you will help faciliate 'pick-ups' for SpinPlus Laundromat's services.\\n    \\n    ## Pick-Up Services\\n    \\n    Wash and Fold - $1.25 per lb - 15 pound minimum\\n    Ironing - $6 per shirt, pants, etc.\\n    \\n    An additional $10 charge is added for pick-ups on top of the standard pricing.\\n    \\n    ## Turn around time\\n    \\n    Any Wash and Fold picked up before 10am is guaranteed to be done by the next business day.\\n    \\n    Ironing may take longer based on staff availability and demand. Account for 2-3 days (minimum).\\n        \\n    ## Delivery\\n    \\n    SpinPlus Laundromat does NOT do delivery. Customers must pick-up items at the store location.\\n    \\n    ## Prices\\n    \\n    Prices for standard services will be determined by SpinPlus Laundromat staff when they arrive to your location.\\n    They will weigh Wash and Fold items and count items that need to be ironed on top of adding the Pickup Service charge.\\n    \\n    ## Appointments\\n    \\n    If a customer expresses intent for an appointment or a pickup what they mean is that they would like to schedule a pick-up for the Pick-Up Services.\\n        \\n    Before getting down any of their details, you should always check availability and provide it to the customer.\\n    \\n    They don't have a user interface or anything to indicate availability and are relying on you to tell them.\\n    \\n    When displaying availability do not display slot IDs as that maps to our internal database IDs and is SENSITIVE.\\n    \\n    ## Pickup Scheduling Process\\n    \\n    Incrementally ask the customer for the correct information\\n    \\n    1. What service(s) they are interested in\\n    2. Show them the available appointment slots and identify the one they are interested in\\n    3. What their name and phone number is\\n    4. What the pickup location is. If they don't specify their city, state assume it is Edinburg, TX\\n    5. Schedule the appointment.\\n    \\n    It is important that you break this up into smaller interactions to not overwhelm the user.\\n    \\n    Getting their name and phone number before the pickup location is important in case the session gets disconnected.\\n    \"}, {'role': 'user', 'content': 'Hello I have dirty clothes that I need help with'}, {'role': 'assistant', 'content': \"Hello! I'd be happy to assist you with that. We offer two main services at SpinPlus Laundromat: Wash and Fold, and Ironing. \\n\\nOur Wash and Fold service is priced at $1.25 per pound with a 15 pound minimum, and our Ironing service is $6 per item. \\n\\nPlease note that there is an additional $10 charge for pick-ups. \\n\\nWhich of these services are you interested in?\"}, {'role': 'assistant', 'content': '{\"name\": \"get_availability\", \"arguments\": \"{}\"}'}, {'role': 'function', 'tool_call_id': 'call_JHDKAUddIjs3Wwtls4hqaRKn', 'name': 'get_availability', 'content': \"[{'pickup_slot_id': 6, 'pickup_date': '04/22/2024', 'pickup_time': '01:00pm'}, {'pickup_slot_id': 7, 'pickup_date': '04/22/2024', 'pickup_time': '02:00pm'}, {'pickup_slot_id': 8, 'pickup_date': '04/22/2024', 'pickup_time': '03:00pm'}, {'pickup_slot_id': 9, 'pickup_date': '04/22/2024', 'pickup_time': '04:00pm'}, {'pickup_slot_id': 10, 'pickup_date': '04/22/2024', 'pickup_time': '05:00pm'}, {'pickup_slot_id': 1, 'pickup_date': '04/22/2024', 'pickup_time': '08:00am'}, {'pickup_slot_id': 2, 'pickup_date': '04/22/2024', 'pickup_time': '09:00am'}, {'pickup_slot_id': 3, 'pickup_date': '04/22/2024', 'pickup_time': '10:00am'}, {'pickup_slot_id': 4, 'pickup_date': '04/22/2024', 'pickup_time': '11:00am'}, {'pickup_slot_id': 5, 'pickup_date': '04/22/2024', 'pickup_time': '12:00pm'}, {'pickup_slot_id': 16, 'pickup_date': '04/23/2024', 'pickup_time': '01:00pm'}, {'pickup_slot_id': 17, 'pickup_date': '04/23/2024', 'pickup_time': '02:00pm'}, {'pickup_slot_id': 18, 'pickup_date': '04/23/2024', 'pickup_time': '03:00pm'}, {'pickup_slot_id': 19, 'pickup_date': '04/23/2024', 'pickup_time': '04:00pm'}, {'pickup_slot_id': 20, 'pickup_date': '04/23/2024', 'pickup_time': '05:00pm'}, {'pickup_slot_id': 11, 'pickup_date': '04/23/2024', 'pickup_time': '08:00am'}, {'pickup_slot_id': 12, 'pickup_date': '04/23/2024', 'pickup_time': '09:00am'}, {'pickup_slot_id': 13, 'pickup_date': '04/23/2024', 'pickup_time': '10:00am'}, {'pickup_slot_id': 14, 'pickup_date': '04/23/2024', 'pickup_time': '11:00am'}, {'pickup_slot_id': 15, 'pickup_date': '04/23/2024', 'pickup_time': '12:00pm'}]\"}, {'role': 'user', 'content': 'Im going to need both please'}, {'role': 'assistant', 'content': 'Great! We have several available pick-up slots for today and tomorrow. Here they are:\\n\\n**Today, April 22, 2024**\\n- 01:00 PM\\n- 02:00 PM\\n- 03:00 PM\\n- 04:00 PM\\n- 05:00 PM\\n- 08:00 AM\\n- 09:00 AM\\n- 10:00 AM\\n- 11:00 AM\\n- 12:00 PM\\n\\n**Tomorrow, April 23, 2024**\\n- 01:00 PM\\n- 02:00 PM\\n- 03:00 PM\\n- 04:00 PM\\n- 05:00 PM\\n- 08:00 AM\\n- 09:00 AM\\n- 10:00 AM\\n- 11:00 AM\\n- 12:00 PM\\n\\nPlease let me know which slot you would like to schedule for your pick-up.'}, {'role': 'user', 'content': '4pm tomorrow'}, {'role': 'assistant', 'content': \"Perfect! I've noted down that you'd like a pick-up at 4 PM tomorrow. \\n\\nNow, could you please provide me with your full name and phone number? This is important in case we need to contact you regarding your pick-up.\"}, {'role': 'user', 'content': 'Kevin Gonzales 956-425-9898'}, {'role': 'assistant', 'content': \"Thank you, Kevin. \\n\\nNow, could you please provide the address where we should pick up your laundry? If you don't specify the city and state, I'll assume it's in Edinburg, TX.\"}, {'role': 'assistant', 'content': '{\"name\": \"schedule_pickup\", \"arguments\": \"{\\\\n\\\\\"full_name\\\\\": \\\\\"Kevin Gonzales\\\\\",\\\\n\\\\\"phone\\\\\": \\\\\"956-425-9898\\\\\",\\\\n\\\\\"address\\\\\": \\\\\"1201 W University Dr, Edinburg, TX\\\\\",\\\\n\\\\\"pickup_slot_id\\\\\": 19,\\\\n\\\\\"wash_and_fold_service\\\\\": true,\\\\n\\\\\"ironing_service\\\\\": true\\\\n}\"}'}, {'role': 'function', 'tool_call_id': 'call_KtAb3oqEokUEC68N5hn0aBU0', 'name': 'schedule_pickup', 'content': 'Successfully scheduled.'}]\n"
     ]
    }
   ],
   "source": [
    "import gradio as gr\n",
    "import pandas as pd\n",
    "\n",
    "def get_availability_df():\n",
    "    # Get availability data as a list of dictionaries\n",
    "    availability_data = get_availability()\n",
    "    \n",
    "    # Convert the list of dictionaries to a DataFrame\n",
    "    df = pd.DataFrame(availability_data)\n",
    "    \n",
    "    return df \n",
    "\n",
    "def get_booked_appointments_df():\n",
    "    # Get booked appointments data as a list of dictionaries\n",
    "    appointments_data = get_booked_appointments()\n",
    "    \n",
    "    # Convert the list of dictionaries to a DataFrame\n",
    "    df = pd.DataFrame(appointments_data)\n",
    "    \n",
    "    return df\n",
    "\n",
    "# Define a function to return a chatbot app using Gradio\n",
    "def get_chatbot_app(share=False):\n",
    "    # Create the Gradio interface using the Blocks layout\n",
    "    with gr.Blocks() as app:\n",
    "        with gr.Tab(\"Conversation\"):\n",
    "            with gr.Row():\n",
    "                with gr.Column():\n",
    "                    # Create a chatbot interface for the conversation\n",
    "                    chatbot = gr.Chatbot(label=\"Conversation\")\n",
    "                    # Create a textbox for the user's message\n",
    "                    message = gr.Textbox(label=\"Message\")\n",
    "                    # Create a state object to store the conversation history\n",
    "                    history_state = gr.State()\n",
    "                    # Create a state object to store the available tools\n",
    "                    tools = gr.State()\n",
    "                    # Create a button to send the user's message\n",
    "                    btn = gr.Button(value=\"Send\")\n",
    "                btn.click(chat, inputs=[message, chatbot, history_state], outputs=[message, chatbot, history_state])\n",
    "        with gr.Tab(\"(Admin) Appointments\"):\n",
    "            refresh = gr.Button(value=\"Refresh\")\n",
    "            appointments = gr.Dataframe(value=get_booked_appointments_df())\n",
    "            refresh.click(get_booked_appointments_df, outputs=appointments)\n",
    "        with gr.Tab(\"(Admin) Update Appointment\"):\n",
    "            appointment_slots = gr.Dataframe(value=get_availability_df())\n",
    "        # Return the app\n",
    "        return app\n",
    "    \n",
    "# Call the launch_chatbot function to start the chatbot interface using Gradio\n",
    "# Set the share parameter to False, meaning the interface will not be publicly accessible\n",
    "get_chatbot_app().launch()"
   ]
  },
  {
   "cell_type": "code",
   "execution_count": null,
   "id": "930f0972",
   "metadata": {},
   "outputs": [],
   "source": []
  },
  {
   "cell_type": "code",
   "execution_count": null,
   "id": "d4a37e02",
   "metadata": {},
   "outputs": [],
   "source": []
  }
 ],
 "metadata": {
  "kernelspec": {
   "display_name": "Python 3 (ipykernel)",
   "language": "python",
   "name": "python3"
  },
  "language_info": {
   "codemirror_mode": {
    "name": "ipython",
    "version": 3
   },
   "file_extension": ".py",
   "mimetype": "text/x-python",
   "name": "python",
   "nbconvert_exporter": "python",
   "pygments_lexer": "ipython3",
   "version": "3.9.6"
  }
 },
 "nbformat": 4,
 "nbformat_minor": 5
}
